{
 "cells": [
  {
   "cell_type": "code",
   "execution_count": 1,
   "id": "4d246727",
   "metadata": {},
   "outputs": [],
   "source": [
    "import mysql.connector as connector"
   ]
  },
  {
   "cell_type": "code",
   "execution_count": 38,
   "id": "a0ed54a8",
   "metadata": {},
   "outputs": [],
   "source": [
    "connection = connector.connect(user='Aed', password='aed', database='LittleLemonDB')\n"
   ]
  },
  {
   "cell_type": "code",
   "execution_count": 39,
   "id": "724afda1",
   "metadata": {},
   "outputs": [],
   "source": [
    "cursor = connection.cursor()"
   ]
  },
  {
   "cell_type": "code",
   "execution_count": 29,
   "id": "9bc214cf",
   "metadata": {},
   "outputs": [],
   "source": [
    "cursor.execute('show tables')"
   ]
  },
  {
   "cell_type": "code",
   "execution_count": 30,
   "id": "d5056ed2",
   "metadata": {},
   "outputs": [
    {
     "name": "stdout",
     "output_type": "stream",
     "text": [
      "[('Bookings',), ('CustomerDetails',), ('Menu',), ('OrderDeliveryStatus',), ('Orders',), ('StaffInformation',)]\n"
     ]
    }
   ],
   "source": [
    "print(cursor.fetchall())"
   ]
  },
  {
   "cell_type": "code",
   "execution_count": 41,
   "id": "c18ca45a",
   "metadata": {},
   "outputs": [
    {
     "name": "stdout",
     "output_type": "stream",
     "text": [
      "[]\n"
     ]
    }
   ],
   "source": [
    "archquery = \"\"\"\n",
    "select CustomerName, ContactData \n",
    "from CustomerDetails inner join Bookings on CustomerDetails.CustomerID = Bookings.CustomerID inner join Orders\n",
    "on Bookings.BookingID = Orders.BookingID\n",
    "where Orders.TotalCost > 60\n",
    "\"\"\"\n",
    "cursor.execute(archquery)\n",
    "print(cursor.fetchall())"
   ]
  }
 ],
 "metadata": {
  "kernelspec": {
   "display_name": "Python 3 (ipykernel)",
   "language": "python",
   "name": "python3"
  },
  "language_info": {
   "codemirror_mode": {
    "name": "ipython",
    "version": 3
   },
   "file_extension": ".py",
   "mimetype": "text/x-python",
   "name": "python",
   "nbconvert_exporter": "python",
   "pygments_lexer": "ipython3",
   "version": "3.8.10"
  }
 },
 "nbformat": 4,
 "nbformat_minor": 5
}
