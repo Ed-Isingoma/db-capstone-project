{
 "cells": [
  {
   "cell_type": "code",
   "execution_count": 1,
   "id": "4d246727",
   "metadata": {},
   "outputs": [],
   "source": [
    "import mysql.connector as connector"
   ]
  },
  {
   "cell_type": "code",
   "execution_count": 10,
   "id": "a0ed54a8",
   "metadata": {},
   "outputs": [],
   "source": [
    "connection = connector.connect(user='Aed', password='aed', database='LittleLemonDB')\n"
   ]
  },
  {
   "cell_type": "code",
   "execution_count": 11,
   "id": "724afda1",
   "metadata": {},
   "outputs": [],
   "source": [
    "cursor = connection.cursor()"
   ]
  },
  {
   "cell_type": "code",
   "execution_count": 34,
   "id": "fd1fb3a5",
   "metadata": {
    "collapsed": true
   },
   "outputs": [
    {
     "name": "stdout",
     "output_type": "stream",
     "text": [
      "('This booking is not in the database',)\n"
     ]
    }
   ],
   "source": [
    "#CALL ALL YOUR PROCEDURES HERE. SIMPLY CHANGE THE ARGUMENTS IN THE STATEMENT BELOW\n",
    "\n",
    "#args = (99, 99, 22, '2021-01-01')\n",
    "#args2 = (3, '2022-01-10')\n",
    "\n",
    "cursor.callproc(\"UpdateBooking\", args2)\n",
    "#ress = next(cursor.stored_results())\n",
    "#for item in ress.fetchall():\n",
    "#    print(item)"
   ]
  },
  {
   "cell_type": "code",
   "execution_count": 22,
   "id": "b88f972f",
   "metadata": {
    "scrolled": true
   },
   "outputs": [],
   "source": [
    "#AddBooking procedure\n",
    "addbookingproc = \"\"\"\n",
    "create procedure if not exists AddBooking(bookid int, customerid int, tableno int, bookdate date)\n",
    "begin\n",
    "if not exists (select * from Bookings where BookingID = bookid) \n",
    "then insert into Bookings values (bookid, bookdate, tableno, customerid, 3);\n",
    "else select 'Please make a different booking!';\n",
    "end if;\n",
    "end\n",
    "\"\"\"\n",
    "cursor.execute(addbookingproc)\n",
    "connection.commit()"
   ]
  },
  {
   "cell_type": "code",
   "execution_count": 32,
   "id": "bd2bc69a",
   "metadata": {},
   "outputs": [],
   "source": [
    "#UpdateBooking procedure\n",
    "updatebookproc = \"\"\"\n",
    "create procedure if not exists UpdateBooking(tableno int, bookdate date)\n",
    "begin\n",
    "if exists (select BookingDate from Bookings where BookingDate = bookdate) then\n",
    "update Bookings set TableNo = tableno where BookingDate = bookdate;\n",
    "else select 'This booking is not in the database';\n",
    "end if;\n",
    "end\n",
    "\"\"\"\n",
    "cursor.execute(updatebookproc)\n",
    "connection.commit()"
   ]
  },
  {
   "cell_type": "code",
   "execution_count": 35,
   "id": "1f08fd3c",
   "metadata": {},
   "outputs": [],
   "source": [
    "#CancelBooking procedure\n",
    "cancelbookproc = \"\"\"\n",
    "create procedure CancelBooking (bookid int) begin\n",
    "delete from bookings where BookingID = bookid ;\n",
    "if not exists (select BookingDate from bookings where BookingID = bookid) then\n",
    "select concat('Booking ', bookid, ' cancelled') as Confirmation;\n",
    "else select 'Problem occured. Booking was not cancelled' as Confirmation;\n",
    "end if;\n",
    "end\n",
    "\"\"\"\n",
    "cursor.execute(cancelbookproc)\n",
    "connection.commit()"
   ]
  },
  {
   "cell_type": "code",
   "execution_count": 6,
   "id": "9bc214cf",
   "metadata": {},
   "outputs": [],
   "source": [
    "#GetMaxQuantity procedure\n",
    "getmaxproc = \"\"\"\n",
    "create procedure if not exists GetMaxQuantity() select max(Quantity) from Orders\n",
    "\"\"\"\n",
    "cursor.execute(getmaxproc)"
   ]
  },
  {
   "cell_type": "code",
   "execution_count": 30,
   "id": "c18ca45a",
   "metadata": {},
   "outputs": [
    {
     "name": "stdout",
     "output_type": "stream",
     "text": [
      "[('John Cena', 'Lives in Chicago')]\n"
     ]
    }
   ],
   "source": [
    "#Customer data\n",
    "archquery = \"\"\"\n",
    "select CustomerName, ContactData \n",
    "from CustomerDetails inner join Bookings on CustomerDetails.CustomerID = Bookings.CustomerID inner join Orders\n",
    "on Bookings.BookingID = Orders.BookingID\n",
    "where Orders.TotalCost > 60\n",
    "\"\"\"\n",
    "cursor.execute(archquery)\n",
    "print(cursor.fetchall())"
   ]
  }
 ],
 "metadata": {
  "kernelspec": {
   "display_name": "Python 3 (ipykernel)",
   "language": "python",
   "name": "python3"
  },
  "language_info": {
   "codemirror_mode": {
    "name": "ipython",
    "version": 3
   },
   "file_extension": ".py",
   "mimetype": "text/x-python",
   "name": "python",
   "nbconvert_exporter": "python",
   "pygments_lexer": "ipython3",
   "version": "3.8.10"
  }
 },
 "nbformat": 4,
 "nbformat_minor": 5
}
